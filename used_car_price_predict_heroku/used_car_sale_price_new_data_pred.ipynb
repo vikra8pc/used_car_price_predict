{
 "cells": [
  {
   "cell_type": "code",
   "execution_count": 1,
   "metadata": {},
   "outputs": [],
   "source": [
    "import pickle\n",
    "import numpy as np\n",
    "import pandas as pd\n",
    "import matplotlib.pyplot as plt\n",
    "import seaborn as sns\n",
    "import os\n",
    "import warnings\n",
    "warnings.filterwarnings(\"ignore\")\n",
    "%matplotlib inline\n",
    "from sklearn.preprocessing import LabelEncoder as le , OneHotEncoder as ohe\n",
    "import category_encoders as ce\n",
    "from sklearn.preprocessing import StandardScaler\n",
    "from sklearn.model_selection import train_test_split\n",
    "from sklearn.model_selection import KFold\n",
    "from sklearn.model_selection import cross_val_score\n",
    "from sklearn.model_selection import cross_validate\n",
    "from sklearn.model_selection import GridSearchCV\n",
    "from sklearn.linear_model import LinearRegression\n",
    "from sklearn.linear_model import Lasso\n",
    "from sklearn.linear_model import ElasticNet\n",
    "from sklearn.tree import DecisionTreeRegressor\n",
    "from sklearn.neighbors import KNeighborsRegressor\n",
    "from sklearn.svm import SVR\n",
    "from sklearn.pipeline import Pipeline\n",
    "from sklearn.ensemble import RandomForestRegressor\n",
    "from sklearn.ensemble import GradientBoostingRegressor\n",
    "from sklearn.ensemble import ExtraTreesRegressor\n",
    "from sklearn.ensemble import AdaBoostRegressor\n",
    "from sklearn.metrics import mean_squared_error\n",
    "from sklearn.metrics import r2_score"
   ]
  },
  {
   "cell_type": "code",
   "execution_count": 2,
   "metadata": {},
   "outputs": [],
   "source": [
    "pickle_off = open(\"used_car_sale_price_train_test.pickle\",\"rb\")\n",
    "scaler = pickle.load(pickle_off)\n",
    "model = pickle.load(pickle_off)\n",
    "X_ohe = pickle.load(pickle_off)\n",
    "cat_val = pickle.load(pickle_off)\n",
    "\n",
    "\n"
   ]
  },
  {
   "cell_type": "code",
   "execution_count": 20,
   "metadata": {},
   "outputs": [],
   "source": [
    "def fn_predict_used_car_price(input_row=[]):\n",
    "    ''' pass the data in following format\n",
    "    val_data_row = [{'cost': 4751, 'lot_time':126 , 'is_over_age': 'YES', 'mileage':77606, 'vehicle_type': 'ECONOMY',\\\n",
    "       'is_domestic': 'Domestic', 'vehicle_age':5 , 'age_group': 'FIVE', 'color': 'BLUE', 'make': 'CHEVROLET', 'state': 'FL',\\\n",
    "       'make_model': 'CHEVROLET.CAVALIER'}]'''\n",
    "    val_data_row = input_row\n",
    "    df_val_data_row =pd.DataFrame(val_data_row)\n",
    "    df_val_data_row.head()\n",
    "\n",
    "    X_val = df_val_data_row.drop(['cost'],axis=1)  \n",
    "    y_val = df_val_data_row['cost']\n",
    "\n",
    "    X_val_ohe = X_ohe.transform(X_val[cat_val])\n",
    "    X_val_final = pd.concat([X_val.drop(cat_val, 1),X_val_ohe], axis=1).reindex()\n",
    "    X_val_final.head()\n",
    "\n",
    "    # transform the val dataset\n",
    "    rescaledValX = scaler.transform(X_val_final)\n",
    "    val_pred = model.predict(rescaledValX)\n",
    "#     print(mean_squared_error(y_val, val_pred))\n",
    "    MSE = mean_squared_error(y_val, val_pred)\n",
    "    r2 = model.score(rescaledValX, y_val)\n",
    "\n",
    "#     print(f\"MSE: {MSE}, R2: {r2}\")\n",
    "\n",
    "    perc_accu=(1-((val_pred-y_val)/val_pred))*100\n",
    "    print(f'Percentage Accuracy: {perc_accu}')\n",
    "    pd.DataFrame(zip(rescaledValX, y_val,val_pred)).head(200)\n",
    "#     print(f'one hot encoded features:{rescaledValX}')\n",
    "    print(f'Actual Value (not from train or test set (separate data from val data):{y_val}')\n",
    "    print(f'Predicted Value from Model:{val_pred}')\n",
    "    sns.barplot(x=['actual','predicted'], y=[y_val,val_pred[0]])\n",
    "    output=[]\n",
    "    output.append(f'Percentage Accuracy: {perc_accu}')\n",
    "    output.append(f'Actual Value (not from train or test set (separate data from val data):{y_val}')\n",
    "    output.append(f'Predicted Value from Model:{val_pred}')\n",
    "    return output\n",
    "    "
   ]
  },
  {
   "cell_type": "code",
   "execution_count": 21,
   "metadata": {},
   "outputs": [
    {
     "name": "stdout",
     "output_type": "stream",
     "text": [
      "Percentage Accuracy: 0    98.69611\n",
      "Name: cost, dtype: float64\n",
      "Actual Value (not from train or test set (separate data from val data):0    4751\n",
      "Name: cost, dtype: int64\n",
      "Predicted Value from Model:[4813.76622526]\n"
     ]
    },
    {
     "data": {
      "text/plain": [
       "['Percentage Accuracy: 0    98.69611\\nName: cost, dtype: float64',\n",
       " 'Actual Value (not from train or test set (separate data from val data):0    4751\\nName: cost, dtype: int64',\n",
       " 'Predicted Value from Model:[4813.76622526]']"
      ]
     },
     "execution_count": 21,
     "metadata": {},
     "output_type": "execute_result"
    },
    {
     "data": {
      "image/png": "[encoded data removed]",
      "text/plain": [
       "<Figure size 432x288 with 1 Axes>"
      ]
     },
     "metadata": {
      "needs_background": "light"
     },
     "output_type": "display_data"
    }
   ],
   "source": [
    "val_data_row = [{'cost': 4751, 'lot_time':126 , 'is_over_age': 'YES', 'mileage':77606, 'vehicle_type': 'ECONOMY',\\\n",
    "       'is_domestic': 'Domestic', 'vehicle_age':5 , 'age_group': 'FIVE', 'color': 'BLUE', 'make': 'CHEVROLET', 'state': 'FL',\\\n",
    "       'make_model': 'CHEVROLET.CAVALIER'}]\n",
    "                \n",
    "fn_predict_used_car_price(val_data_row)"
   ]
  },
  {
   "cell_type": "code",
   "execution_count": null,
   "metadata": {},
   "outputs": [],
   "source": []
  },
  {
   "cell_type": "code",
   "execution_count": null,
   "metadata": {},
   "outputs": [],
   "source": []
  },
  {
   "cell_type": "code",
   "execution_count": null,
   "metadata": {},
   "outputs": [],
   "source": []
  },
  {
   "cell_type": "code",
   "execution_count": null,
   "metadata": {},
   "outputs": [],
   "source": []
  },
  {
   "cell_type": "code",
   "execution_count": null,
   "metadata": {},
   "outputs": [],
   "source": []
  },
  {
   "cell_type": "code",
   "execution_count": null,
   "metadata": {},
   "outputs": [],
   "source": []
  },
  {
   "cell_type": "code",
   "execution_count": null,
   "metadata": {},
   "outputs": [],
   "source": []
  }
 ],
 "metadata": {
  "kernelspec": {
   "display_name": "Python 3",
   "language": "python",
   "name": "python3"
  },
  "language_info": {
   "codemirror_mode": {
    "name": "ipython",
    "version": 3
   },
   "file_extension": ".py",
   "mimetype": "text/x-python",
   "name": "python",
   "nbconvert_exporter": "python",
   "pygments_lexer": "ipython3",
   "version": "3.7.2"
  }
 },
 "nbformat": 4,
 "nbformat_minor": 2
}
